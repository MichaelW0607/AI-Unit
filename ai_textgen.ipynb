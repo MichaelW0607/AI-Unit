{
 "cells": [
  {
   "cell_type": "code",
   "execution_count": 9,
   "metadata": {},
   "outputs": [
    {
     "name": "stderr",
     "output_type": "stream",
     "text": [
      "Downloading (…)lve/main/config.json: 100%|██████████| 665/665 [00:00<00:00, 147kB/s]\n",
      "Downloading (…)\"pytorch_model.bin\";: 100%|██████████| 548M/548M [03:03<00:00, 2.98MB/s] \n",
      "Generate config GenerationConfig {\n",
      "  \"bos_token_id\": 50256,\n",
      "  \"eos_token_id\": 50256,\n",
      "  \"transformers_version\": \"4.26.1\"\n",
      "}\n",
      "\n",
      "Downloading (…)neration_config.json: 100%|██████████| 124/124 [00:00<00:00, 17.6kB/s]\n",
      "loading configuration file generation_config.json from cache at aitextgen/models--gpt2/snapshots/e7da7f221d5bf496a48136c0cd264e630fe9fcc8/generation_config.json\n",
      "Generate config GenerationConfig {\n",
      "  \"_from_model_config\": true,\n",
      "  \"bos_token_id\": 50256,\n",
      "  \"eos_token_id\": 50256,\n",
      "  \"transformers_version\": \"4.26.1\"\n",
      "}\n",
      "\n"
     ]
    }
   ],
   "source": [
    "from aitextgen  import aitextgen \n",
    "ai = aitextgen()"
   ]
  },
  {
   "cell_type": "code",
   "execution_count": 10,
   "metadata": {},
   "outputs": [
    {
     "name": "stderr",
     "output_type": "stream",
     "text": [
      "Generate config GenerationConfig {\n",
      "  \"bos_token_id\": 50256,\n",
      "  \"eos_token_id\": 50256,\n",
      "  \"transformers_version\": \"4.26.1\"\n",
      "}\n",
      "\n",
      "A decoder-only architecture is being used, but right-padding was detected! For correct generation results, please set `padding_side='left'` when initializing the tokenizer.\n"
     ]
    },
    {
     "name": "stdout",
     "output_type": "stream",
     "text": [
      "The United States is leading the world in nuclear weapons, and the world is becoming less likely to use nuclear weapons if the threat of another global nuclear war is lessened.\n",
      "\n",
      "The world has a long tradition of using nuclear weapons, starting from the earliest days of the United States, to defend against invading forces, and to safeguard against the growing threat of a nuclear war. These efforts were justified in the name of national security.\n",
      "\n",
      "But in the days before the U.S. military entered the international arena in the 1950s, the United States became the leading nuclear power for the world.\n",
      "\n",
      "The United States was on the forefront of the development of the atomic bomb, and the Cold War ended when the United States became the world's sole superpower in 1962.\n",
      "\n",
      "The United States, like all other nations, saw the potential to use nuclear weapons, and was even willing to use them in its defense against hostile forces.\n",
      "\n",
      "The United States had a long tradition of using nuclear weapons, starting from the earliest days of the U.S. military, to defend against invading forces, and to safeguard against the growing threat of a nuclear war. These efforts were justified in the name of national security.\n",
      "\n",
      "From the earliest days of the United States\n",
      "None\n"
     ]
    }
   ],
   "source": [
    "print(ai.generate())"
   ]
  }
 ],
 "metadata": {
  "kernelspec": {
   "display_name": "Python 3",
   "language": "python",
   "name": "python3"
  },
  "language_info": {
   "codemirror_mode": {
    "name": "ipython",
    "version": 3
   },
   "file_extension": ".py",
   "mimetype": "text/x-python",
   "name": "python",
   "nbconvert_exporter": "python",
   "pygments_lexer": "ipython3",
   "version": "3.9.6"
  },
  "orig_nbformat": 4,
  "vscode": {
   "interpreter": {
    "hash": "31f2aee4e71d21fbe5cf8b01ff0e069b9275f58929596ceb00d14d90e3e16cd6"
   }
  }
 },
 "nbformat": 4,
 "nbformat_minor": 2
}
